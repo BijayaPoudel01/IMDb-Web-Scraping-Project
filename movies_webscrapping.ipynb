{
 "cells": [
  {
   "cell_type": "code",
   "execution_count": 1,
   "id": "30449898-7906-44ac-bd76-d1b349776f12",
   "metadata": {},
   "outputs": [
    {
     "name": "stdout",
     "output_type": "stream",
     "text": [
      "Requirement already satisfied: selenium in c:\\users\\hp\\appdata\\local\\programs\\python\\python312\\lib\\site-packages (4.32.0)\n",
      "Requirement already satisfied: urllib3<3,>=1.26 in c:\\users\\hp\\appdata\\local\\programs\\python\\python312\\lib\\site-packages (from urllib3[socks]<3,>=1.26->selenium) (2.4.0)\n",
      "Requirement already satisfied: trio~=0.17 in c:\\users\\hp\\appdata\\local\\programs\\python\\python312\\lib\\site-packages (from selenium) (0.30.0)\n",
      "Requirement already satisfied: trio-websocket~=0.9 in c:\\users\\hp\\appdata\\local\\programs\\python\\python312\\lib\\site-packages (from selenium) (0.12.2)\n",
      "Requirement already satisfied: certifi>=2021.10.8 in c:\\users\\hp\\appdata\\local\\programs\\python\\python312\\lib\\site-packages (from selenium) (2025.4.26)\n",
      "Requirement already satisfied: typing_extensions~=4.9 in c:\\users\\hp\\appdata\\local\\programs\\python\\python312\\lib\\site-packages (from selenium) (4.13.2)\n",
      "Requirement already satisfied: websocket-client~=1.8 in c:\\users\\hp\\appdata\\local\\programs\\python\\python312\\lib\\site-packages (from selenium) (1.8.0)\n",
      "Requirement already satisfied: attrs>=23.2.0 in c:\\users\\hp\\appdata\\local\\programs\\python\\python312\\lib\\site-packages (from trio~=0.17->selenium) (25.3.0)\n",
      "Requirement already satisfied: sortedcontainers in c:\\users\\hp\\appdata\\local\\programs\\python\\python312\\lib\\site-packages (from trio~=0.17->selenium) (2.4.0)\n",
      "Requirement already satisfied: idna in c:\\users\\hp\\appdata\\local\\programs\\python\\python312\\lib\\site-packages (from trio~=0.17->selenium) (3.10)\n",
      "Requirement already satisfied: outcome in c:\\users\\hp\\appdata\\local\\programs\\python\\python312\\lib\\site-packages (from trio~=0.17->selenium) (1.3.0.post0)\n",
      "Requirement already satisfied: sniffio>=1.3.0 in c:\\users\\hp\\appdata\\local\\programs\\python\\python312\\lib\\site-packages (from trio~=0.17->selenium) (1.3.1)\n",
      "Requirement already satisfied: cffi>=1.14 in c:\\users\\hp\\appdata\\local\\programs\\python\\python312\\lib\\site-packages (from trio~=0.17->selenium) (1.17.1)\n",
      "Requirement already satisfied: wsproto>=0.14 in c:\\users\\hp\\appdata\\local\\programs\\python\\python312\\lib\\site-packages (from trio-websocket~=0.9->selenium) (1.2.0)\n",
      "Requirement already satisfied: pysocks!=1.5.7,<2.0,>=1.5.6 in c:\\users\\hp\\appdata\\local\\programs\\python\\python312\\lib\\site-packages (from urllib3[socks]<3,>=1.26->selenium) (1.7.1)\n",
      "Requirement already satisfied: pycparser in c:\\users\\hp\\appdata\\local\\programs\\python\\python312\\lib\\site-packages (from cffi>=1.14->trio~=0.17->selenium) (2.22)\n",
      "Requirement already satisfied: h11<1,>=0.9.0 in c:\\users\\hp\\appdata\\local\\programs\\python\\python312\\lib\\site-packages (from wsproto>=0.14->trio-websocket~=0.9->selenium) (0.16.0)\n"
     ]
    },
    {
     "name": "stderr",
     "output_type": "stream",
     "text": [
      "\n",
      "[notice] A new release of pip is available: 25.0.1 -> 25.1.1\n",
      "[notice] To update, run: python.exe -m pip install --upgrade pip\n"
     ]
    }
   ],
   "source": [
    "!pip install selenium"
   ]
  },
  {
   "cell_type": "code",
   "execution_count": 22,
   "id": "9e4d0cf7-380f-4a97-ac67-d32e190b07a7",
   "metadata": {},
   "outputs": [],
   "source": [
    "from selenium import webdriver   \n",
    "from selenium.webdriver.common.by import By "
   ]
  },
  {
   "cell_type": "code",
   "execution_count": 3,
   "id": "58cf3978-1dbc-4183-b631-215724f303f3",
   "metadata": {},
   "outputs": [],
   "source": [
    "#title\n",
    "#/html/body/div[2]/main/div/div[3]/section/div/div[2]/div/ul/li[20]/div/div/div/div/div[2]/div[1]/a/h3\n",
    "#/html/body/div[2]/main/div/div[3]/section/div/div[2]/div/ul/li[15]/div/div/div/div/div[2]/div[1]/a/h3\n",
    "#/html/body/div[2]/main/div/div[3]/section/div/div[2]/div/ul/li[14]/div/div/div/div/div[2]/div[1]/a/h3\n",
    "#/html/body/div[2]/main/div/div[3]/section/div/div[2]/div/ul/li[1]/div/div/div/div/div[2]/div[1]/a/h3\n",
    "\n",
    "#released_year\n",
    "# /html/body/div[2]/main/div/div[3]/section/div/div[2]/div/ul/li[20]/div/div/div/div/div[2]/div[2]/span[1]\n",
    "# /html/body/div[2]/main/div/div[3]/section/div/div[2]/div/ul/li[19]/div/div/div/div/div[2]/div[2]/span[1]\n",
    "\n",
    "#runtime\n",
    "# /html/body/div[2]/main/div/div[3]/section/div/div[2]/div/ul/li[19]/div/div/div/div/div[2]/div[2]/span[1]\n",
    "\n",
    "#imbd_rating\n",
    "# /html/body/div[2]/main/div/div[3]/section/div/div[2]/div/ul/li[20]/div/div/div/div/div[2]/span/div/span/span[1]\n",
    "\n",
    "#Age rating\n",
    "# /html/body/div[2]/main/div/div[3]/section/div/div[2]/div/ul/li[20]/div/div/div/div/div[2]/div[2]/span[3]\n",
    "# /html/body/div[2]/main/div/div[3]/section/div/div[2]/div/ul/li[18]/div/div/div/div/div[2]/div[2]/span[3]\n",
    "\n",
    "#Reviews_ on_no\n",
    "# /html/body/div[2]/main/div/div[3]/section/div/div[2]/div/ul/li[20]/div/div/div/div/div[2]/span/div/span/span[2]"
   ]
  },
  {
   "cell_type": "code",
   "execution_count": 74,
   "id": "79c74594-8dc5-40ec-8c84-9aa96bc7d3c8",
   "metadata": {},
   "outputs": [],
   "source": [
    "driver=webdriver.Chrome()\n",
    "driver.get(\"https://www.imdb.com/chart/top/\")"
   ]
  },
  {
   "cell_type": "code",
   "execution_count": 75,
   "id": "1009c090-3b35-47a1-9477-9bb703ea0307",
   "metadata": {},
   "outputs": [
    {
     "data": {
      "text/plain": [
       "'20. Se7en'"
      ]
     },
     "execution_count": 75,
     "metadata": {},
     "output_type": "execute_result"
    }
   ],
   "source": [
    "data=driver.find_element(By.XPATH, f'/html/body/div[2]/main/div/div[3]/section/div/div[2]/div/ul/li[20]/div/div/div/div/div[2]/div[1]/a/h3').text\n",
    "data"
   ]
  },
  {
   "cell_type": "code",
   "execution_count": 88,
   "id": "6718e24a-1cb7-412d-99e8-ce757b5219d7",
   "metadata": {},
   "outputs": [
    {
     "name": "stdout",
     "output_type": "stream",
     "text": [
      " sucessfully extract the data \n"
     ]
    }
   ],
   "source": [
    "Titles=[]\n",
    "Released_year=[]\n",
    "Runtime=[]\n",
    "Imdb_rating=[]\n",
    "Reviews_on_no=[]\n",
    "\n",
    "for i in range(1,251):\n",
    "    title=driver.find_element(By.XPATH, f'/html/body/div[2]/main/div/div[3]/section/div/div[2]/div/ul/li[{i}]/div/div/div/div/div[2]/div[1]/a/h3').text\n",
    "    Titles.append(title)\n",
    "\n",
    "    released_year=driver.find_element(By.XPATH, f'/html/body/div[2]/main/div/div[3]/section/div/div[2]/div/ul/li[{i}]/div/div/div/div/div[2]/div[2]/span[1]').text\n",
    "    Released_year.append(released_year)\n",
    "\n",
    "    runtime=driver.find_element(By.XPATH, f'/html/body/div[2]/main/div/div[3]/section/div/div[2]/div/ul/li[{i}]/div/div/div/div/div[2]/div[2]/span[1]').text\n",
    "    Runtime.append(runtime)\n",
    "\n",
    "    imdb_rating=driver.find_element(By.XPATH, f'/html/body/div[2]/main/div/div[3]/section/div/div[2]/div/ul/li[{i}]/div/div/div/div/div[2]/span/div/span/span[1]').text\n",
    "    Imdb_rating.append(imdb_rating)\n",
    "\n",
    "    reviews_on_no=driver.find_element(By.XPATH, f'/html/body/div[2]/main/div/div[3]/section/div/div[2]/div/ul/li[{i}]/div/div/div/div/div[2]/span/div/span/span[2]').text\n",
    "    Reviews_on_no.append(reviews_on_no)\n",
    "\n",
    "print(\" sucessfully extract the data \")"
   ]
  },
  {
   "cell_type": "code",
   "execution_count": 92,
   "id": "eb4666ff-dcde-4bf2-bb42-f5130cbaea45",
   "metadata": {},
   "outputs": [
    {
     "data": {
      "text/plain": [
       "['1. The Shawshank Redemption',\n",
       " '2. The Godfather',\n",
       " '3. The Dark Knight',\n",
       " '4. The Godfather Part II',\n",
       " '5. 12 Angry Men',\n",
       " '6. The Lord of the Rings: The Return of the King',\n",
       " \"7. Schindler's List\",\n",
       " '8. Pulp Fiction',\n",
       " '9. The Lord of the Rings: The Fellowship of the Ring',\n",
       " '10. The Good, the Bad and the Ugly',\n",
       " '11. Forrest Gump',\n",
       " '12. The Lord of the Rings: The Two Towers',\n",
       " '13. Fight Club',\n",
       " '14. Inception',\n",
       " '15. Star Wars: Episode V - The Empire Strikes Back',\n",
       " '16. The Matrix',\n",
       " '17. Goodfellas',\n",
       " '18. Interstellar',\n",
       " \"19. One Flew Over the Cuckoo's Nest\",\n",
       " '20. Se7en',\n",
       " \"21. It's a Wonderful Life\",\n",
       " '22. The Silence of the Lambs',\n",
       " '23. Seven Samurai',\n",
       " '24. Saving Private Ryan']"
      ]
     },
     "execution_count": 92,
     "metadata": {},
     "output_type": "execute_result"
    }
   ],
   "source": [
    "Titles[:24]"
   ]
  },
  {
   "cell_type": "code",
   "execution_count": 91,
   "id": "634e717e-dbf6-4457-ab6f-e1cb74e1d424",
   "metadata": {},
   "outputs": [
    {
     "name": "stdout",
     "output_type": "stream",
     "text": [
      "250\n",
      "250\n",
      "250\n",
      "250\n",
      "250\n"
     ]
    }
   ],
   "source": [
    "print(len(Titles))\n",
    "print(len(Released_year))\n",
    "print(len(Runtime))\n",
    "print(len(Imdb_rating))\n",
    "print(len(Reviews_on_no))"
   ]
  },
  {
   "cell_type": "markdown",
   "id": "abcbb9c2-71df-42d5-b9f7-0094e8b9e45e",
   "metadata": {},
   "source": [
    "## Dictionary creation"
   ]
  },
  {
   "cell_type": "code",
   "execution_count": 98,
   "id": "b0306ddf-ee82-4aa9-97a0-67609409319c",
   "metadata": {},
   "outputs": [],
   "source": [
    "dicts={'Title':Titles,'Released_year':Released_year,'Runtime':Runtime,'Imdb_rating':Imdb_rating,'Reviews_on_no':Reviews_on_no}"
   ]
  },
  {
   "cell_type": "code",
   "execution_count": 99,
   "id": "affb132b-9840-4686-8823-2f11549d6f95",
   "metadata": {},
   "outputs": [
    {
     "data": {
      "text/html": [
       "<div>\n",
       "<style scoped>\n",
       "    .dataframe tbody tr th:only-of-type {\n",
       "        vertical-align: middle;\n",
       "    }\n",
       "\n",
       "    .dataframe tbody tr th {\n",
       "        vertical-align: top;\n",
       "    }\n",
       "\n",
       "    .dataframe thead th {\n",
       "        text-align: right;\n",
       "    }\n",
       "</style>\n",
       "<table border=\"1\" class=\"dataframe\">\n",
       "  <thead>\n",
       "    <tr style=\"text-align: right;\">\n",
       "      <th></th>\n",
       "      <th>Title</th>\n",
       "      <th>Released_year</th>\n",
       "      <th>Runtime</th>\n",
       "      <th>Imdb_rating</th>\n",
       "      <th>Reviews_on_no</th>\n",
       "    </tr>\n",
       "  </thead>\n",
       "  <tbody>\n",
       "    <tr>\n",
       "      <th>0</th>\n",
       "      <td>1. The Shawshank Redemption</td>\n",
       "      <td>1994</td>\n",
       "      <td>1994</td>\n",
       "      <td>9.3</td>\n",
       "      <td>(3M)</td>\n",
       "    </tr>\n",
       "    <tr>\n",
       "      <th>1</th>\n",
       "      <td>2. The Godfather</td>\n",
       "      <td>1972</td>\n",
       "      <td>1972</td>\n",
       "      <td>9.2</td>\n",
       "      <td>(2.1M)</td>\n",
       "    </tr>\n",
       "    <tr>\n",
       "      <th>2</th>\n",
       "      <td>3. The Dark Knight</td>\n",
       "      <td>2008</td>\n",
       "      <td>2008</td>\n",
       "      <td>9.0</td>\n",
       "      <td>(3M)</td>\n",
       "    </tr>\n",
       "    <tr>\n",
       "      <th>3</th>\n",
       "      <td>4. The Godfather Part II</td>\n",
       "      <td>1974</td>\n",
       "      <td>1974</td>\n",
       "      <td>9.0</td>\n",
       "      <td>(1.4M)</td>\n",
       "    </tr>\n",
       "    <tr>\n",
       "      <th>4</th>\n",
       "      <td>5. 12 Angry Men</td>\n",
       "      <td>1957</td>\n",
       "      <td>1957</td>\n",
       "      <td>9.0</td>\n",
       "      <td>(926K)</td>\n",
       "    </tr>\n",
       "    <tr>\n",
       "      <th>...</th>\n",
       "      <td>...</td>\n",
       "      <td>...</td>\n",
       "      <td>...</td>\n",
       "      <td>...</td>\n",
       "      <td>...</td>\n",
       "    </tr>\n",
       "    <tr>\n",
       "      <th>245</th>\n",
       "      <td>246. Groundhog Day</td>\n",
       "      <td>1993</td>\n",
       "      <td>1993</td>\n",
       "      <td>8.0</td>\n",
       "      <td>(717K)</td>\n",
       "    </tr>\n",
       "    <tr>\n",
       "      <th>246</th>\n",
       "      <td>247. The Help</td>\n",
       "      <td>2011</td>\n",
       "      <td>2011</td>\n",
       "      <td>8.1</td>\n",
       "      <td>(513K)</td>\n",
       "    </tr>\n",
       "    <tr>\n",
       "      <th>247</th>\n",
       "      <td>248. Amores Perros</td>\n",
       "      <td>2000</td>\n",
       "      <td>2000</td>\n",
       "      <td>8.0</td>\n",
       "      <td>(268K)</td>\n",
       "    </tr>\n",
       "    <tr>\n",
       "      <th>248</th>\n",
       "      <td>249. Drishyam</td>\n",
       "      <td>2015</td>\n",
       "      <td>2015</td>\n",
       "      <td>8.2</td>\n",
       "      <td>(101K)</td>\n",
       "    </tr>\n",
       "    <tr>\n",
       "      <th>249</th>\n",
       "      <td>250. Andhadhun</td>\n",
       "      <td>2018</td>\n",
       "      <td>2018</td>\n",
       "      <td>8.2</td>\n",
       "      <td>(109K)</td>\n",
       "    </tr>\n",
       "  </tbody>\n",
       "</table>\n",
       "<p>250 rows × 5 columns</p>\n",
       "</div>"
      ],
      "text/plain": [
       "                           Title Released_year Runtime Imdb_rating  \\\n",
       "0    1. The Shawshank Redemption          1994    1994         9.3   \n",
       "1               2. The Godfather          1972    1972         9.2   \n",
       "2             3. The Dark Knight          2008    2008         9.0   \n",
       "3       4. The Godfather Part II          1974    1974         9.0   \n",
       "4                5. 12 Angry Men          1957    1957         9.0   \n",
       "..                           ...           ...     ...         ...   \n",
       "245           246. Groundhog Day          1993    1993         8.0   \n",
       "246                247. The Help          2011    2011         8.1   \n",
       "247           248. Amores Perros          2000    2000         8.0   \n",
       "248                249. Drishyam          2015    2015         8.2   \n",
       "249               250. Andhadhun          2018    2018         8.2   \n",
       "\n",
       "    Reviews_on_no  \n",
       "0            (3M)  \n",
       "1          (2.1M)  \n",
       "2            (3M)  \n",
       "3          (1.4M)  \n",
       "4          (926K)  \n",
       "..            ...  \n",
       "245        (717K)  \n",
       "246        (513K)  \n",
       "247        (268K)  \n",
       "248        (101K)  \n",
       "249        (109K)  \n",
       "\n",
       "[250 rows x 5 columns]"
      ]
     },
     "execution_count": 99,
     "metadata": {},
     "output_type": "execute_result"
    }
   ],
   "source": [
    "import pandas as pd\n",
    "df=pd.DataFrame(dicts)\n",
    "df"
   ]
  },
  {
   "cell_type": "code",
   "execution_count": 100,
   "id": "15cafd07-3b5f-4c85-b76e-36d381372012",
   "metadata": {},
   "outputs": [
    {
     "name": "stdout",
     "output_type": "stream",
     "text": [
      "<class 'pandas.core.frame.DataFrame'>\n",
      "RangeIndex: 250 entries, 0 to 249\n",
      "Data columns (total 5 columns):\n",
      " #   Column         Non-Null Count  Dtype \n",
      "---  ------         --------------  ----- \n",
      " 0   Title          250 non-null    object\n",
      " 1   Released_year  250 non-null    object\n",
      " 2   Runtime        250 non-null    object\n",
      " 3   Imdb_rating    250 non-null    object\n",
      " 4   Reviews_on_no  250 non-null    object\n",
      "dtypes: object(5)\n",
      "memory usage: 9.9+ KB\n"
     ]
    }
   ],
   "source": [
    "df.info()"
   ]
  },
  {
   "cell_type": "markdown",
   "id": "9fd210f2-d0ab-4553-9e2b-b9aaad4ff51e",
   "metadata": {},
   "source": [
    "# saving data into csv file"
   ]
  },
  {
   "cell_type": "code",
   "execution_count": 101,
   "id": "d298ace2-79fe-4adb-8e7c-19bef4441140",
   "metadata": {},
   "outputs": [],
   "source": [
    "df.to_csv(r'C:\\Users\\HP\\OneDrive\\Desktop\\datascience class\\Datascience (saroj sir)\\DataScience\\web scarping\\moviesdata.csv',index=False)"
   ]
  },
  {
   "cell_type": "code",
   "execution_count": 102,
   "id": "2c98eb42-b215-463c-a5c7-9207e32ae6a8",
   "metadata": {},
   "outputs": [],
   "source": [
    "df.to_json(r'C:\\Users\\HP\\OneDrive\\Desktop\\datascience class\\Datascience (saroj sir)\\DataScience\\web scarping\\moviesjson.json',indent=4,orient='records')"
   ]
  },
  {
   "cell_type": "code",
   "execution_count": null,
   "id": "571a7931-8e2e-45d7-b882-abb251dd7b49",
   "metadata": {},
   "outputs": [],
   "source": []
  }
 ],
 "metadata": {
  "kernelspec": {
   "display_name": "Python 3 (ipykernel)",
   "language": "python",
   "name": "python3"
  },
  "language_info": {
   "codemirror_mode": {
    "name": "ipython",
    "version": 3
   },
   "file_extension": ".py",
   "mimetype": "text/x-python",
   "name": "python",
   "nbconvert_exporter": "python",
   "pygments_lexer": "ipython3",
   "version": "3.12.10"
  }
 },
 "nbformat": 4,
 "nbformat_minor": 5
}
